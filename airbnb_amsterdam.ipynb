{
 "metadata": {
  "language_info": {
   "codemirror_mode": {
    "name": "ipython",
    "version": 3
   },
   "file_extension": ".py",
   "mimetype": "text/x-python",
   "name": "python",
   "nbconvert_exporter": "python",
   "pygments_lexer": "ipython3",
   "version": "3.8.3"
  },
  "orig_nbformat": 4,
  "kernelspec": {
   "name": "python3",
   "display_name": "Python 3.8.3 64-bit ('base': conda)"
  },
  "interpreter": {
   "hash": "0c8fc3154f194c0dc35dede945206d03d95356bcb2dd0bf3624af0e006cdb920"
  }
 },
 "nbformat": 4,
 "nbformat_minor": 2,
 "cells": [
  {
   "source": [
    "import pandas as pd\n",
    "from matplotlib import pyplot as plt\n",
    "import numpy as np\n",
    "import seaborn as sns\n",
    "from sklearn.linear_model import LinearRegression\n",
    "from sklearn.model_selection import train_test_split\n",
    "from sklearn.metrics import r2_score, mean_squared_error\n"
   ],
   "cell_type": "code",
   "metadata": {},
   "execution_count": 69,
   "outputs": []
  },
  {
   "cell_type": "code",
   "execution_count": 70,
   "metadata": {},
   "outputs": [
    {
     "output_type": "execute_result",
     "data": {
      "text/plain": [
       "                                                    name  host_id  host_name  \\\n",
       "id                                                                             \n",
       "2818            Quiet Garden View Room & Super Fast WiFi     3159     Daniel   \n",
       "20168       Studio with private bathroom in the centre 1    59484  Alexander   \n",
       "25428  Lovely, 1 bed apt in Ctr (w.lift) -3/20-6/20(f...    56142       Joan   \n",
       "27886  Romantic, stylish B&B houseboat in canal district    97647       Flip   \n",
       "28871                            Comfortable double room   124245      Edwin   \n",
       "\n",
       "       neighbourhood_group                           neighbourhood  latitude  \\\n",
       "id                                                                             \n",
       "2818                   NaN  Oostelijk Havengebied - Indische Buurt  52.36435   \n",
       "20168                  NaN                            Centrum-Oost  52.36407   \n",
       "25428                  NaN                            Centrum-West  52.37490   \n",
       "27886                  NaN                            Centrum-West  52.38761   \n",
       "28871                  NaN                            Centrum-West  52.36775   \n",
       "\n",
       "       longitude        room_type  price  minimum_nights  number_of_reviews  \\\n",
       "id                                                                            \n",
       "2818     4.94358     Private room     59               3                278   \n",
       "20168    4.89393     Private room    200               1                339   \n",
       "25428    4.88487  Entire home/apt    125              14                  5   \n",
       "27886    4.89188     Private room    141               2                219   \n",
       "28871    4.89092     Private room     75               2                336   \n",
       "\n",
       "      last_review  reviews_per_month  calculated_host_listings_count  \\\n",
       "id                                                                     \n",
       "2818   2020-02-14               1.90                               1   \n",
       "20168  2020-04-09               2.50                               2   \n",
       "25428  2020-02-09               0.13                               2   \n",
       "27886  2020-07-25               1.94                               1   \n",
       "28871  2020-09-20               2.59                               2   \n",
       "\n",
       "       availability_365  \n",
       "id                       \n",
       "2818                152  \n",
       "20168                 0  \n",
       "25428               132  \n",
       "27886                66  \n",
       "28871               335  "
      ],
      "text/html": "<div>\n<style scoped>\n    .dataframe tbody tr th:only-of-type {\n        vertical-align: middle;\n    }\n\n    .dataframe tbody tr th {\n        vertical-align: top;\n    }\n\n    .dataframe thead th {\n        text-align: right;\n    }\n</style>\n<table border=\"1\" class=\"dataframe\">\n  <thead>\n    <tr style=\"text-align: right;\">\n      <th></th>\n      <th>name</th>\n      <th>host_id</th>\n      <th>host_name</th>\n      <th>neighbourhood_group</th>\n      <th>neighbourhood</th>\n      <th>latitude</th>\n      <th>longitude</th>\n      <th>room_type</th>\n      <th>price</th>\n      <th>minimum_nights</th>\n      <th>number_of_reviews</th>\n      <th>last_review</th>\n      <th>reviews_per_month</th>\n      <th>calculated_host_listings_count</th>\n      <th>availability_365</th>\n    </tr>\n    <tr>\n      <th>id</th>\n      <th></th>\n      <th></th>\n      <th></th>\n      <th></th>\n      <th></th>\n      <th></th>\n      <th></th>\n      <th></th>\n      <th></th>\n      <th></th>\n      <th></th>\n      <th></th>\n      <th></th>\n      <th></th>\n      <th></th>\n    </tr>\n  </thead>\n  <tbody>\n    <tr>\n      <th>2818</th>\n      <td>Quiet Garden View Room &amp; Super Fast WiFi</td>\n      <td>3159</td>\n      <td>Daniel</td>\n      <td>NaN</td>\n      <td>Oostelijk Havengebied - Indische Buurt</td>\n      <td>52.36435</td>\n      <td>4.94358</td>\n      <td>Private room</td>\n      <td>59</td>\n      <td>3</td>\n      <td>278</td>\n      <td>2020-02-14</td>\n      <td>1.90</td>\n      <td>1</td>\n      <td>152</td>\n    </tr>\n    <tr>\n      <th>20168</th>\n      <td>Studio with private bathroom in the centre 1</td>\n      <td>59484</td>\n      <td>Alexander</td>\n      <td>NaN</td>\n      <td>Centrum-Oost</td>\n      <td>52.36407</td>\n      <td>4.89393</td>\n      <td>Private room</td>\n      <td>200</td>\n      <td>1</td>\n      <td>339</td>\n      <td>2020-04-09</td>\n      <td>2.50</td>\n      <td>2</td>\n      <td>0</td>\n    </tr>\n    <tr>\n      <th>25428</th>\n      <td>Lovely, 1 bed apt in Ctr (w.lift) -3/20-6/20(f...</td>\n      <td>56142</td>\n      <td>Joan</td>\n      <td>NaN</td>\n      <td>Centrum-West</td>\n      <td>52.37490</td>\n      <td>4.88487</td>\n      <td>Entire home/apt</td>\n      <td>125</td>\n      <td>14</td>\n      <td>5</td>\n      <td>2020-02-09</td>\n      <td>0.13</td>\n      <td>2</td>\n      <td>132</td>\n    </tr>\n    <tr>\n      <th>27886</th>\n      <td>Romantic, stylish B&amp;B houseboat in canal district</td>\n      <td>97647</td>\n      <td>Flip</td>\n      <td>NaN</td>\n      <td>Centrum-West</td>\n      <td>52.38761</td>\n      <td>4.89188</td>\n      <td>Private room</td>\n      <td>141</td>\n      <td>2</td>\n      <td>219</td>\n      <td>2020-07-25</td>\n      <td>1.94</td>\n      <td>1</td>\n      <td>66</td>\n    </tr>\n    <tr>\n      <th>28871</th>\n      <td>Comfortable double room</td>\n      <td>124245</td>\n      <td>Edwin</td>\n      <td>NaN</td>\n      <td>Centrum-West</td>\n      <td>52.36775</td>\n      <td>4.89092</td>\n      <td>Private room</td>\n      <td>75</td>\n      <td>2</td>\n      <td>336</td>\n      <td>2020-09-20</td>\n      <td>2.59</td>\n      <td>2</td>\n      <td>335</td>\n    </tr>\n  </tbody>\n</table>\n</div>"
     },
     "metadata": {},
     "execution_count": 70
    }
   ],
   "source": [
    "#Summary information and metrics for listings in Amsterdam (good for visualisations).\n",
    "listings = pd.read_csv('./datasets/listings.csv', index_col=0)\n",
    "#Neighbourhood list for geo filter. Sourced from city or open source GIS files.\n",
    "n_hoods = pd.read_csv('./datasets/neighbourhoods.csv', index_col=0)\n",
    "#Summary Review data and Listing ID (to facilitate time based analytics and visualisations linked to a listing).\n",
    "reviews = pd.read_csv('./datasets/reviews.csv', index_col=0)\n",
    "\n",
    "listings.head()\n"
   ]
  },
  {
   "source": [
    "\n",
    "# Thesis\n",
    "1. Do higher prices lead to more reviews ?\n",
    "2. Do higher prices lead to more reviews ? \n",
    "3. Does the gender of the host influence the reviews ?  \n",
    "\n",
    "Can we predict number/quality of reviews by prices/gender  ?\n",
    " \n",
    "## What needs to be done ? \n",
    "* check if numver_of_reviews has NaN values \n",
    "* drop Columns with all NaN\n",
    "\n",
    "\n",
    "\n"
   ],
   "cell_type": "markdown",
   "metadata": {}
  },
  {
   "cell_type": "code",
   "execution_count": 71,
   "metadata": {},
   "outputs": [
    {
     "output_type": "stream",
     "name": "stdout",
     "text": [
      "17825\n"
     ]
    }
   ],
   "source": [
    "ratio_of_nan= np.sum(listings.isnull())/listings.shape[0]\n",
    "ratio_of_nan\n",
    "print (listings.shape[0])"
   ]
  },
  {
   "source": [
    "Drop column neighbourhood_group since all NaN"
   ],
   "cell_type": "markdown",
   "metadata": {}
  },
  {
   "cell_type": "code",
   "execution_count": 72,
   "metadata": {},
   "outputs": [],
   "source": [
    "listings =listings.drop(['neighbourhood_group'], axis= 1)\n"
   ]
  },
  {
   "source": [
    "Add a host gender column using https://gender-api.com/"
   ],
   "cell_type": "markdown",
   "metadata": {}
  },
  {
   "cell_type": "code",
   "execution_count": 73,
   "metadata": {},
   "outputs": [
    {
     "output_type": "stream",
     "name": "stdout",
     "text": [
      "Requirement already satisfied: gender-guesser in c:\\users\\tobiasverleger\\anaconda3\\lib\\site-packages (0.4.0)\n"
     ]
    }
   ],
   "source": [
    "!pip install gender-guesser"
   ]
  },
  {
   "cell_type": "code",
   "execution_count": 74,
   "metadata": {
    "tags": []
   },
   "outputs": [],
   "source": [
    "\n",
    "import gender_guesser.detector as gender\n",
    "d = gender.Detector()\n",
    "\n",
    "hostnames=listings['host_name']\n",
    "\n",
    "def genderize (row):\n",
    "    return d.get_gender(row['host_name'])\n",
    "\n",
    "listings['host_gender'] = listings.apply (lambda row: genderize(row), axis=1)\n",
    "\n",
    "\n",
    "    "
   ]
  },
  {
   "cell_type": "code",
   "execution_count": 79,
   "metadata": {},
   "outputs": [
    {
     "output_type": "error",
     "ename": "ValueError",
     "evalue": "Found input variables with inconsistent numbers of samples: [17825, 15425]",
     "traceback": [
      "\u001b[1;31m---------------------------------------------------------------------------\u001b[0m",
      "\u001b[1;31mValueError\u001b[0m                                Traceback (most recent call last)",
      "\u001b[1;32m<ipython-input-79-de75ab5ddc19>\u001b[0m in \u001b[0;36m<module>\u001b[1;34m\u001b[0m\n\u001b[0;32m      3\u001b[0m \u001b[1;33m\u001b[0m\u001b[0m\n\u001b[0;32m      4\u001b[0m \u001b[1;33m\u001b[0m\u001b[0m\n\u001b[1;32m----> 5\u001b[1;33m \u001b[0mX_train\u001b[0m\u001b[1;33m,\u001b[0m \u001b[0mX_test\u001b[0m\u001b[1;33m,\u001b[0m \u001b[0my_train\u001b[0m\u001b[1;33m,\u001b[0m \u001b[0my_test\u001b[0m \u001b[1;33m=\u001b[0m \u001b[0mtrain_test_split\u001b[0m\u001b[1;33m(\u001b[0m\u001b[0mX\u001b[0m\u001b[1;33m,\u001b[0m \u001b[0my\u001b[0m\u001b[1;33m,\u001b[0m \u001b[0mtest_size\u001b[0m \u001b[1;33m=\u001b[0m \u001b[1;36m.30\u001b[0m\u001b[1;33m,\u001b[0m \u001b[0mrandom_state\u001b[0m\u001b[1;33m=\u001b[0m\u001b[1;36m42\u001b[0m\u001b[1;33m)\u001b[0m\u001b[1;33m\u001b[0m\u001b[1;33m\u001b[0m\u001b[0m\n\u001b[0m\u001b[0;32m      6\u001b[0m \u001b[1;33m\u001b[0m\u001b[0m\n\u001b[0;32m      7\u001b[0m \u001b[0mlm_model\u001b[0m \u001b[1;33m=\u001b[0m \u001b[0mLinearRegression\u001b[0m\u001b[1;33m(\u001b[0m\u001b[0mnormalize\u001b[0m\u001b[1;33m=\u001b[0m\u001b[1;32mTrue\u001b[0m\u001b[1;33m)\u001b[0m\u001b[1;33m\u001b[0m\u001b[1;33m\u001b[0m\u001b[0m\n",
      "\u001b[1;32m~\\anaconda3\\lib\\site-packages\\sklearn\\model_selection\\_split.py\u001b[0m in \u001b[0;36mtrain_test_split\u001b[1;34m(*arrays, **options)\u001b[0m\n\u001b[0;32m   2125\u001b[0m         \u001b[1;32mraise\u001b[0m \u001b[0mTypeError\u001b[0m\u001b[1;33m(\u001b[0m\u001b[1;34m\"Invalid parameters passed: %s\"\u001b[0m \u001b[1;33m%\u001b[0m \u001b[0mstr\u001b[0m\u001b[1;33m(\u001b[0m\u001b[0moptions\u001b[0m\u001b[1;33m)\u001b[0m\u001b[1;33m)\u001b[0m\u001b[1;33m\u001b[0m\u001b[1;33m\u001b[0m\u001b[0m\n\u001b[0;32m   2126\u001b[0m \u001b[1;33m\u001b[0m\u001b[0m\n\u001b[1;32m-> 2127\u001b[1;33m     \u001b[0marrays\u001b[0m \u001b[1;33m=\u001b[0m \u001b[0mindexable\u001b[0m\u001b[1;33m(\u001b[0m\u001b[1;33m*\u001b[0m\u001b[0marrays\u001b[0m\u001b[1;33m)\u001b[0m\u001b[1;33m\u001b[0m\u001b[1;33m\u001b[0m\u001b[0m\n\u001b[0m\u001b[0;32m   2128\u001b[0m \u001b[1;33m\u001b[0m\u001b[0m\n\u001b[0;32m   2129\u001b[0m     \u001b[0mn_samples\u001b[0m \u001b[1;33m=\u001b[0m \u001b[0m_num_samples\u001b[0m\u001b[1;33m(\u001b[0m\u001b[0marrays\u001b[0m\u001b[1;33m[\u001b[0m\u001b[1;36m0\u001b[0m\u001b[1;33m]\u001b[0m\u001b[1;33m)\u001b[0m\u001b[1;33m\u001b[0m\u001b[1;33m\u001b[0m\u001b[0m\n",
      "\u001b[1;32m~\\anaconda3\\lib\\site-packages\\sklearn\\utils\\validation.py\u001b[0m in \u001b[0;36mindexable\u001b[1;34m(*iterables)\u001b[0m\n\u001b[0;32m    291\u001b[0m     \"\"\"\n\u001b[0;32m    292\u001b[0m     \u001b[0mresult\u001b[0m \u001b[1;33m=\u001b[0m \u001b[1;33m[\u001b[0m\u001b[0m_make_indexable\u001b[0m\u001b[1;33m(\u001b[0m\u001b[0mX\u001b[0m\u001b[1;33m)\u001b[0m \u001b[1;32mfor\u001b[0m \u001b[0mX\u001b[0m \u001b[1;32min\u001b[0m \u001b[0miterables\u001b[0m\u001b[1;33m]\u001b[0m\u001b[1;33m\u001b[0m\u001b[1;33m\u001b[0m\u001b[0m\n\u001b[1;32m--> 293\u001b[1;33m     \u001b[0mcheck_consistent_length\u001b[0m\u001b[1;33m(\u001b[0m\u001b[1;33m*\u001b[0m\u001b[0mresult\u001b[0m\u001b[1;33m)\u001b[0m\u001b[1;33m\u001b[0m\u001b[1;33m\u001b[0m\u001b[0m\n\u001b[0m\u001b[0;32m    294\u001b[0m     \u001b[1;32mreturn\u001b[0m \u001b[0mresult\u001b[0m\u001b[1;33m\u001b[0m\u001b[1;33m\u001b[0m\u001b[0m\n\u001b[0;32m    295\u001b[0m \u001b[1;33m\u001b[0m\u001b[0m\n",
      "\u001b[1;32m~\\anaconda3\\lib\\site-packages\\sklearn\\utils\\validation.py\u001b[0m in \u001b[0;36mcheck_consistent_length\u001b[1;34m(*arrays)\u001b[0m\n\u001b[0;32m    254\u001b[0m     \u001b[0muniques\u001b[0m \u001b[1;33m=\u001b[0m \u001b[0mnp\u001b[0m\u001b[1;33m.\u001b[0m\u001b[0munique\u001b[0m\u001b[1;33m(\u001b[0m\u001b[0mlengths\u001b[0m\u001b[1;33m)\u001b[0m\u001b[1;33m\u001b[0m\u001b[1;33m\u001b[0m\u001b[0m\n\u001b[0;32m    255\u001b[0m     \u001b[1;32mif\u001b[0m \u001b[0mlen\u001b[0m\u001b[1;33m(\u001b[0m\u001b[0muniques\u001b[0m\u001b[1;33m)\u001b[0m \u001b[1;33m>\u001b[0m \u001b[1;36m1\u001b[0m\u001b[1;33m:\u001b[0m\u001b[1;33m\u001b[0m\u001b[1;33m\u001b[0m\u001b[0m\n\u001b[1;32m--> 256\u001b[1;33m         raise ValueError(\"Found input variables with inconsistent numbers of\"\n\u001b[0m\u001b[0;32m    257\u001b[0m                          \" samples: %r\" % [int(l) for l in lengths])\n\u001b[0;32m    258\u001b[0m \u001b[1;33m\u001b[0m\u001b[0m\n",
      "\u001b[1;31mValueError\u001b[0m: Found input variables with inconsistent numbers of samples: [17825, 15425]"
     ]
    }
   ],
   "source": [
    "X = listings[['host_gender','price' , 'availability_365']]\n",
    "y = listings['reviews_per_month']\n",
    "\n",
    "\n",
    "X_train, X_test, y_train, y_test = train_test_split(X, y, test_size = .30, random_state=42)\n",
    "\n",
    "lm_model = LinearRegression(normalize=True) \n",
    "lm_model.fit(X_train, y_train) #Fit\n",
    "\n",
    "y_test_preds = lm_model.predict(X_test) \n",
    "\n",
    "y_test_preds\n",
    "\n",
    "#sns.heatmap(listings.corr(), annot=True, fmt=\".2f\");"
   ]
  },
  {
   "cell_type": "code",
   "execution_count": null,
   "metadata": {},
   "outputs": [],
   "source": []
  },
  {
   "cell_type": "code",
   "execution_count": null,
   "metadata": {},
   "outputs": [],
   "source": []
  }
 ]
}